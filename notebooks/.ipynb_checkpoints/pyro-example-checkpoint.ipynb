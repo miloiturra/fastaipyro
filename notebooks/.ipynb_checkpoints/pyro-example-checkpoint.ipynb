{
 "cells": [
  {
   "cell_type": "code",
   "execution_count": 1,
   "metadata": {
    "ExecuteTime": {
     "end_time": "2020-04-29T00:11:42.097337Z",
     "start_time": "2020-04-29T00:11:37.572523Z"
    }
   },
   "outputs": [],
   "source": [
    "%load_ext autoreload\n",
    "%autoreload 2\n",
    "%matplotlib inline\n",
    "\n",
    "import sys\n",
    "sys.path.append(\"../../SpikePy\")\n",
    "import SpikePy as sp\n",
    "import seaborn as sn\n",
    "from tqdm import tqdm_notebook as tqdm\n",
    "\n",
    "import torch.distributions.constraints as constraints\n",
    "\n",
    "import pyro\n",
    "import pyro.distributions as dist\n",
    "from pyro import poutine\n",
    "import torch\n",
    "\n",
    "from pyro.contrib.autoguide import AutoDiagonalNormal\n",
    "from pyro.infer import SVI, Trace_ELBO, TracePredictive\n",
    "from pyro.optim import Adam\n",
    "from pyro.infer import EmpiricalMarginal\n",
    "\n",
    "from pyro.infer import Predictive\n",
    "\n",
    "import ipywidgets as widgets\n",
    "from ipywidgets import interact\n",
    "import matplotlib.pyplot as plt\n",
    "import numpy as np"
   ]
  },
  {
   "cell_type": "code",
   "execution_count": 2,
   "metadata": {
    "ExecuteTime": {
     "end_time": "2020-04-29T00:11:47.186548Z",
     "start_time": "2020-04-29T00:11:47.165761Z"
    }
   },
   "outputs": [],
   "source": [
    "def coin_toss(nsamples, p=0.5):\n",
    "    return dist.Bernoulli(probs=torch.ones(nsamples)*p).sample()\n",
    "\n",
    "def beta_pdf(x, alpha, beta):\n",
    "    return torch.exp(dist.Beta(alpha, beta).log_prob(x))"
   ]
  },
  {
   "cell_type": "markdown",
   "metadata": {},
   "source": [
    "# Data and model definition\n",
    "\n",
    "We generate data from a coin toss process with true probability $p^*=0.2$. Our model for estimating $p^*$ is:\n",
    "\n",
    "$$\\begin{align*}  y &\\sim \\text{Bernoulli}(\\mathbf{p}) \\quad \\text{  (Likelihood)}\\\\\n",
    "\\mathbf{p} &\\sim \\text{Beta}(\\alpha, \\alpha) \\quad \\text{  (Prior)}\n",
    "\\end{align*} \n",
    "$$\n",
    "So our prior belife will be that the coin toss process is fair (symetric prior distribution)"
   ]
  },
  {
   "cell_type": "code",
   "execution_count": 3,
   "metadata": {
    "ExecuteTime": {
     "end_time": "2020-04-29T00:13:09.289082Z",
     "start_time": "2020-04-29T00:13:09.020926Z"
    }
   },
   "outputs": [
    {
     "data": {
      "application/vnd.jupyter.widget-view+json": {
       "model_id": "8e02a4224c9e45949cb6a15116bcb683",
       "version_major": 2,
       "version_minor": 0
      },
      "text/plain": [
       "interactive(children=(FloatSlider(value=1.0, continuous_update=False, description='alpha:', max=10.0, min=0.01…"
      ]
     },
     "metadata": {},
     "output_type": "display_data"
    }
   ],
   "source": [
    "alpha = widgets.FloatSlider(value=1,min=0.01, max=10, step=0.01, description='alpha:',\n",
    "                            disabled=False, continuous_update=False, orientation='horizontal',\n",
    "                            readout=True, readout_format='.1f')\n",
    "\n",
    "beta = widgets.FloatSlider(value=1,min=0.01, max=10, step=0.01, description='beta:',\n",
    "                            disabled=False, continuous_update=False, orientation='horizontal',\n",
    "                            readout=True, readout_format='.1f')\n",
    "\n",
    "@interact()\n",
    "def plot_beta_pdf(alpha=alpha, beta=beta):\n",
    "    x_range = torch.linspace(0.001, .999, 100)\n",
    "    values = beta_pdf(x_range, alpha, beta)\n",
    "    plt.plot(x_range, values)"
   ]
  },
  {
   "cell_type": "markdown",
   "metadata": {},
   "source": [
    "With this model our the posterior distrubution $\\mathcal{D}$ for latent parameter $\\mathbf{p}$ will be:\n",
    "$$\n",
    "\\begin{align*}\n",
    "\\log \\mathcal{D}(\\mathbf{p}) = \\underbrace{\\sum_{i=1}^N y_i \\log \\mathbf{p} + (1-y_i)\\log \\left( 1 - \\mathbf{p})\\right)}_{\\text{likelihood}} + \\underbrace{(\\alpha - 1)(\\log \\mathbf{p} + \\log(1-\\mathbf{p}))}_{\\text{prior}} + \\underbrace{C}_{\\text{normalization constant}}\n",
    "\\end{align*}\n",
    "$$\n",
    "\n",
    "With a little algebra we see that if $N_{H}=\\sum_{i=1}^N y_i $ and $N_{T}=N - \\sum_{i=1}^N y_i $ are the number of heads and tails observed in data then:\n",
    "\n",
    "$$\n",
    "\\log \\mathcal{D}(\\mathbf{p}) = (\\alpha + N_H - 1)\\log \\mathbf{p} + (\\alpha + N_T - 1)\\log(1-\\mathbf{p})) + C\n",
    "$$\n",
    "So $$\\mathcal{D} = \\text{Beta}(\\alpha + N_H, \\alpha + N_T)$$\n",
    "This is a known fact about the conjugacy of the beta distribution\n",
    "(ref: https://en.wikipedia.org/wiki/Conjugate_prior) "
   ]
  },
  {
   "cell_type": "code",
   "execution_count": 4,
   "metadata": {
    "ExecuteTime": {
     "end_time": "2020-04-29T00:15:20.967440Z",
     "start_time": "2020-04-29T00:15:20.893058Z"
    }
   },
   "outputs": [
    {
     "data": {
      "text/plain": [
       "tensor(0.1800)"
      ]
     },
     "execution_count": 4,
     "metadata": {},
     "output_type": "execute_result"
    }
   ],
   "source": [
    "nsamples = 100\n",
    "true_prob = 0.2\n",
    "y = coin_toss(nsamples, true_prob)\n",
    "y.mean()"
   ]
  },
  {
   "cell_type": "code",
   "execution_count": 5,
   "metadata": {
    "ExecuteTime": {
     "end_time": "2020-04-29T00:15:28.531776Z",
     "start_time": "2020-04-29T00:15:28.509978Z"
    }
   },
   "outputs": [],
   "source": [
    "def model(y, alpha=None):\n",
    "    if alpha is None:\n",
    "        alpha=1\n",
    "    p = pyro.sample('prob', dist.Beta(concentration0=alpha, concentration1=alpha))\n",
    "    pyro.sample('obs', dist.Bernoulli(torch.ones_like(p)*p), obs=y)"
   ]
  },
  {
   "cell_type": "code",
   "execution_count": 6,
   "metadata": {
    "ExecuteTime": {
     "end_time": "2020-04-29T00:15:43.458317Z",
     "start_time": "2020-04-29T00:15:43.436103Z"
    }
   },
   "outputs": [],
   "source": [
    "def guide_beta(y, alpha=None):\n",
    "    alpha_q = pyro.param(\"alpha_q\", torch.tensor(10), constraint=constraints.positive)\n",
    "    beta_q = pyro.param(\"beta_q\", torch.tensor(10), constraint=constraints.positive)\n",
    "    pyro.sample(\"prob\", dist.Beta(alpha_q, beta_q))"
   ]
  },
  {
   "cell_type": "code",
   "execution_count": 7,
   "metadata": {
    "ExecuteTime": {
     "end_time": "2020-04-29T00:15:44.646857Z",
     "start_time": "2020-04-29T00:15:44.624284Z"
    }
   },
   "outputs": [
    {
     "name": "stderr",
     "output_type": "stream",
     "text": [
      "/home/ubuntu/miniconda3/envs/spike_basicoV6/lib/python3.6/site-packages/pyro/infer/svi.py:53: FutureWarning: The `num_samples` argument to SVI is deprecated and will be removed in a future release. Use `pyro.infer.Predictive` class to draw samples from the posterior.\n",
      "  'samples from the posterior.', FutureWarning)\n"
     ]
    }
   ],
   "source": [
    "optim = Adam({\"lr\": 0.03})\n",
    "svi = SVI(model, guide_beta, optim, loss=Trace_ELBO(), num_samples=1000)"
   ]
  },
  {
   "cell_type": "code",
   "execution_count": 8,
   "metadata": {
    "ExecuteTime": {
     "end_time": "2020-04-29T00:15:47.989221Z",
     "start_time": "2020-04-29T00:15:45.825712Z"
    }
   },
   "outputs": [
    {
     "name": "stdout",
     "output_type": "stream",
     "text": [
      "[iteration 0001] loss: 59.1042\n",
      "[iteration 0101] loss: 48.8579\n",
      "[iteration 0201] loss: 51.6700\n",
      "[iteration 0301] loss: 49.1614\n",
      "[iteration 0401] loss: 50.5695\n",
      "[iteration 0501] loss: 49.6308\n",
      "[iteration 0601] loss: 49.3900\n",
      "[iteration 0701] loss: 49.1921\n",
      "[iteration 0801] loss: 49.1261\n",
      "[iteration 0901] loss: 49.1325\n"
     ]
    }
   ],
   "source": [
    "pyro.clear_param_store()\n",
    "num_iterations = 1000\n",
    "loss_list = []\n",
    "\n",
    "for j in range(num_iterations):\n",
    "    # calculate the loss and take a gradient step\n",
    "    loss = svi.step(y)\n",
    "    loss_list += [loss]\n",
    "    if j % 100 == 0:\n",
    "        print(\"[iteration %04d] loss: %.4f\" % (j + 1, loss))"
   ]
  },
  {
   "cell_type": "code",
   "execution_count": 9,
   "metadata": {
    "ExecuteTime": {
     "end_time": "2020-04-29T00:15:49.547804Z",
     "start_time": "2020-04-29T00:15:49.426560Z"
    }
   },
   "outputs": [
    {
     "data": {
      "image/png": "[encoded data removed]",
      "text/plain": [
       "<Figure size 432x288 with 1 Axes>"
      ]
     },
     "metadata": {
      "needs_background": "light"
     },
     "output_type": "display_data"
    }
   ],
   "source": [
    "iter_min = 0\n",
    "plt.plot(np.array(loss_list[iter_min:]))\n",
    "plt.xlabel('iterations')\n",
    "plt.ylabel('loss');"
   ]
  },
  {
   "cell_type": "code",
   "execution_count": 10,
   "metadata": {
    "ExecuteTime": {
     "end_time": "2020-04-29T00:15:58.210715Z",
     "start_time": "2020-04-29T00:15:57.625305Z"
    }
   },
   "outputs": [
    {
     "data": {
      "text/plain": [
       "<matplotlib.legend.Legend at 0x7f4cbb6eeeb8>"
      ]
     },
     "execution_count": 10,
     "metadata": {},
     "output_type": "execute_result"
    },
    {
     "data": {
      "image/png": "[encoded data removed]",
      "text/plain": [
       "<Figure size 720x720 with 1 Axes>"
      ]
     },
     "metadata": {
      "needs_background": "light"
     },
     "output_type": "display_data"
    }
   ],
   "source": [
    "pred = Predictive(model, guide=guide_beta, num_samples=1000, return_sites=['prob'])\n",
    "prob_guide_samples = pred(y)['prob'].detach().numpy()\n",
    "\n",
    "fig, ax = plt.subplots(figsize=(10, 10))\n",
    "sn.distplot(prob_guide_samples, label='variational posterior', norm_hist=True, kde=False, ax=ax)\n",
    "\n",
    "alpha = 1\n",
    "x_range = torch.linspace(0.001, .999, 100)\n",
    "alpha_post = alpha + y.sum()\n",
    "beta_post = alpha + len(y) - y.sum()\n",
    "ax.plot(x_range, beta_pdf(x_range, alpha, alpha), label='prior')\n",
    "ax.plot(x_range, beta_pdf(x_range, alpha_post, beta_post), label='true posterior')\n",
    "y_lims = ax.get_ylim()\n",
    "ax.vlines(true_prob, y_lims[0], y_lims[1], label='true probability', linestyle='--')\n",
    "ax.legend()"
   ]
  },
  {
   "cell_type": "code",
   "execution_count": 30,
   "metadata": {
    "ExecuteTime": {
     "end_time": "2020-04-29T00:25:46.022069Z",
     "start_time": "2020-04-29T00:25:45.990747Z"
    },
    "scrolled": true
   },
   "outputs": [],
   "source": [
    "x_range = torch.linspace(0.001, .999, 100)\n",
    "\n",
    "def generate_model(nsamples, true_prob, alpha, variational_type='beta'):\n",
    "    y = coin_toss(nsamples, true_prob)\n",
    "\n",
    "    def model(y, alpha=alpha):\n",
    "        if alpha is None:\n",
    "            alpha=1\n",
    "        p = pyro.sample('prob', dist.Beta(concentration0=alpha, concentration1=alpha))\n",
    "        pyro.sample('obs', dist.Bernoulli(torch.ones_like(p)*p), obs=y)\n",
    "\n",
    "    def guide_beta(y, alpha=None):\n",
    "        alpha_q = pyro.param(\"alpha_q\", torch.tensor(10), constraint=constraints.positive)\n",
    "        beta_q = pyro.param(\"beta_q\", torch.tensor(10), constraint=constraints.positive)\n",
    "        pyro.sample(\"prob\", dist.Beta(alpha_q, beta_q))\n",
    "        \n",
    "    def guide_unif(y, alpha=None):\n",
    "        lower_q = pyro.param(\"lower_q\", torch.tensor(0.4), \n",
    "                             constraint=constraints.interval(torch.tensor(0.001), torch.tensor(.999)))\n",
    "        delta_q = pyro.param(\"delta_q\", torch.tensor(0.01), \n",
    "                             constraint=constraints.interval(torch.tensor(0.001), torch.tensor(.999)))\n",
    "        upper_q = torch.clamp_max(lower_q + delta_q,  torch.tensor(.999))\n",
    "        pyro.sample(\"prob\", dist.Uniform(lower_q, upper_q))\n",
    "\n",
    "    optim = Adam({\"lr\": 0.03})\n",
    "    if variational_type == 'beta':\n",
    "        guide = guide_beta\n",
    "    else:\n",
    "        guide = guide_unif\n",
    "    \n",
    "    svi = SVI(model, guide, optim, loss=Trace_ELBO(), num_samples=1000)\n",
    "\n",
    "    pyro.clear_param_store()\n",
    "    num_iterations = 1000\n",
    "    loss_list = []\n",
    "\n",
    "    for j in range(num_iterations):\n",
    "        # calculate the loss and take a gradient step\n",
    "        loss = svi.step(y)\n",
    "        loss_list += [loss]\n",
    "\n",
    "\n",
    "    pred = Predictive(model, guide=guide, num_samples=2000, return_sites=['prob'])\n",
    "    prob_guide_samples = pred(y)['prob'].detach().numpy()\n",
    "    \n",
    "    fig, ax = plt.subplots(figsize=(10, 10))\n",
    "    sn.distplot(prob_guide_samples, label='variational posterior', norm_hist=True, kde=False, ax=ax)\n",
    "\n",
    "    alpha_post = alpha + y.sum()\n",
    "    beta_post = alpha + len(y) - y.sum()\n",
    "    ax.plot(x_range, beta_pdf(x_range, alpha, alpha), label='prior')\n",
    "    ax.plot(x_range, beta_pdf(x_range, alpha_post, beta_post), label='true posterior')\n",
    "    y_lims = ax.get_ylim()\n",
    "    ax.vlines(true_prob, y_lims[0], y_lims[1], label='true probability', linestyle='--')\n",
    "    ax.legend()"
   ]
  },
  {
   "cell_type": "code",
   "execution_count": 33,
   "metadata": {
    "ExecuteTime": {
     "end_time": "2020-04-29T00:26:18.731185Z",
     "start_time": "2020-04-29T00:26:16.199671Z"
    },
    "scrolled": false
   },
   "outputs": [
    {
     "name": "stderr",
     "output_type": "stream",
     "text": [
      "/home/ubuntu/miniconda3/envs/spike_basicoV6/lib/python3.6/site-packages/pyro/infer/svi.py:53: FutureWarning: The `num_samples` argument to SVI is deprecated and will be removed in a future release. Use `pyro.infer.Predictive` class to draw samples from the posterior.\n",
      "  'samples from the posterior.', FutureWarning)\n"
     ]
    },
    {
     "data": {
      "image/png": "[encoded data removed]",
      "text/plain": [
       "<Figure size 720x720 with 1 Axes>"
      ]
     },
     "metadata": {
      "needs_background": "light"
     },
     "output_type": "display_data"
    }
   ],
   "source": [
    "generate_model(nsamples=100, true_prob=0.2, alpha=1, variational_type='beta')"
   ]
  },
  {
   "cell_type": "code",
   "execution_count": null,
   "metadata": {},
   "outputs": [],
   "source": []
  }
 ],
 "metadata": {
  "kernelspec": {
   "display_name": "Python [conda env:spike_basicoV6]",
   "language": "python",
   "name": "conda-env-spike_basicoV6-py"
  },
  "language_info": {
   "codemirror_mode": {
    "name": "ipython",
    "version": 3
   },
   "file_extension": ".py",
   "mimetype": "text/x-python",
   "name": "python",
   "nbconvert_exporter": "python",
   "pygments_lexer": "ipython3",
   "version": "3.6.10"
  },
  "toc": {
   "base_numbering": 1,
   "nav_menu": {},
   "number_sections": true,
   "sideBar": true,
   "skip_h1_title": false,
   "title_cell": "Table of Contents",
   "title_sidebar": "Contents",
   "toc_cell": false,
   "toc_position": {},
   "toc_section_display": true,
   "toc_window_display": false
  }
 },
 "nbformat": 4,
 "nbformat_minor": 2
}
